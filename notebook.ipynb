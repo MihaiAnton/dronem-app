{
 "cells": [
  {
   "cell_type": "markdown",
   "metadata": {},
   "source": [
    "# Proiect VVSS - testare in Python folosind Pytest"
   ]
  },
  {
   "cell_type": "markdown",
   "metadata": {},
   "source": [
    "Anton Mihai              - antonmihai58@gmail.com\n",
    "\n",
    "Avram Vasile-Cosmin      - cosminavram26@gmail.com\n",
    "\n",
    "Bacotiu Gabriel-Octavian - gabibac5@gmail.com\n",
    "\n",
    "Badita Marin-Georgian    - geo.badita@gmail.com\n",
    "\n",
    "Hasmasan Dragos-Catalin  - hasmasandragos13@gmail.com"
   ]
  },
  {
   "cell_type": "code",
   "execution_count": 1,
   "metadata": {},
   "outputs": [],
   "source": [
    "import warnings\n",
    "warnings.filterwarnings(\"ignore\")\n",
    "!pip install Faker -q\n",
    "!pip install ipytest -q\n",
    "!pip install pytest -q"
   ]
  },
  {
   "cell_type": "markdown",
   "metadata": {},
   "source": [
    "## Table of contents\n",
    "\n",
    "[1.Introducere](#Introducere)\n",
    "\n",
    "[2.Configurare proiect](#Configurareproiect)\n",
    "\n",
    "[3.Configurare Frameword](#ConfigurareFramework)\n",
    "\n",
    "[4.PyTest](#PyTest)\n",
    "\n",
    "[5.Faker](#Faker)\n",
    "\n",
    "[6.Fixtures](#Fixtures)\n",
    "\n",
    "[7.Monkey Patch](#MonkeyPatch)\n",
    "\n",
    "[8.PyTest Parametrize](#Parametrize)"
   ]
  },
  {
   "cell_type": "markdown",
   "metadata": {},
   "source": [
    "<a id='Introducere'></a>\n",
    "## 1. Introducere"
   ]
  },
  {
   "cell_type": "markdown",
   "metadata": {},
   "source": [
    "Python are o gama larga de utilitare de testare care nu sunt doar eficiente, dar si versatile. Unul dintre cele mai populare dintre aceste utilitare este PyTest. In acesta prezentare vom vedea capabilitatile sale in diverse cazuri de utilizare. "
   ]
  },
  {
   "cell_type": "markdown",
   "metadata": {},
   "source": [
    "<a id='Configurareproiect'></a>\n",
    "\n",
    "## 2. Configurare proiect"
   ]
  },
  {
   "cell_type": "markdown",
   "metadata": {},
   "source": [
    "Toate dependintele proiectelui sunt in fisierul requirements.txt. Pentru a instala aceste dependente, trebuie doar sa folosim urmatoarea comanda:"
   ]
  },
  {
   "cell_type": "markdown",
   "metadata": {},
   "source": [
    "```python -m pip install -r requirements.txt```"
   ]
  },
  {
   "cell_type": "markdown",
   "metadata": {},
   "source": [
    "Pentru rularea proiectului trebuie folosite urmatoarele trei comenzi:"
   ]
  },
  {
   "cell_type": "markdown",
   "metadata": {},
   "source": [
    "```python manage.py makemigrations```\n",
    "\n",
    "```python manage.py migrate```\n",
    "\n",
    "```python manage.py runserver```"
   ]
  },
  {
   "cell_type": "markdown",
   "metadata": {},
   "source": [
    "<a id='ConfigurareFramework'></a>\n",
    "\n",
    "## 3. Configurare Framework"
   ]
  },
  {
   "cell_type": "markdown",
   "metadata": {},
   "source": [
    "Framework-ul este un package pip, fiind nevoie doar de a fi instalat folosind comanda:"
   ]
  },
  {
   "cell_type": "markdown",
   "metadata": {},
   "source": [
    "```pip install pytest```"
   ]
  },
  {
   "cell_type": "markdown",
   "metadata": {},
   "source": [
    "Dar nu ar fi nevoie sa rulam aceasta comanda daca avem deja declarat pytest in fisierul requirements.txt."
   ]
  },
  {
   "cell_type": "markdown",
   "metadata": {},
   "source": [
    "<a id='PyTest'></a>\n",
    "\n",
    "## 4. PyTest"
   ]
  },
  {
   "cell_type": "markdown",
   "metadata": {},
   "source": [
    "PyTest este un framework care permite testarea aplicatiilor scrise in Python, acesta putand fi folosit atat pentru a testa o baza de date, API-uri sau UI, dar de cele mai multe ori in industrie acest framework este folosit pentru testarea API-urilor.\n",
    "Cateva dintre avantajele folosirii PyTest sunt:\n",
    "- Usor de configurat, sintaxa simpla\n",
    "- Poate rula teste in paralel\n",
    "- Poate detecta automat teste\n",
    "- Poate rula teste/subteste speicifice\n",
    "- Open source\n"
   ]
  },
  {
   "cell_type": "markdown",
   "metadata": {},
   "source": [
    "Pentru a intelege conceptele aduse de PyTest, vom prezenta un exemplu simplu de\n",
    "inteles, testand o functie care calculeaza cel mai mare divizor comun"
   ]
  },
  {
   "cell_type": "code",
   "execution_count": 2,
   "metadata": {},
   "outputs": [],
   "source": [
    "def computeGCD(x, y):\n",
    "    \"\"\"\n",
    "    Function for computing the gcd of two numbers\n",
    "    :param x: integer\n",
    "    :param y: integer\n",
    "    :return: gcd of x and y\n",
    "    \"\"\"\n",
    "    while (y):\n",
    "        x, y = y, x % y\n",
    "\n",
    "    return x"
   ]
  },
  {
   "cell_type": "markdown",
   "metadata": {},
   "source": [
    "Vom prezenta doua situatii. In prima situatie vom testa functie cu date valide, \n",
    "iar in cea de a doua o vom testa cu date de intrare invalide.\n",
    "Crearea unui test in PyTest este foarte simpla, este nevoie doar ca numele functiei sa inceapa cu \"test_\"."
   ]
  },
  {
   "cell_type": "code",
   "execution_count": 3,
   "metadata": {},
   "outputs": [],
   "source": [
    "import pytest\n",
    "from computeGCD import computeGCD\n",
    "\n",
    "def test_gcd_valid():\n",
    "    assert computeGCD(60, 48) == 12\n",
    "\n",
    "def test_gcd_invalid():\n",
    "    assert computeGCD(60, 48) == 13, \"Test failed!\"\n",
    "\n"
   ]
  },
  {
   "cell_type": "code",
   "execution_count": 4,
   "metadata": {
    "scrolled": true
   },
   "outputs": [
    {
     "name": "stdout",
     "output_type": "stream",
     "text": [
      "============================= test session starts =============================\n",
      "platform win32 -- Python 3.7.6, pytest-5.3.5, py-1.8.1, pluggy-0.13.1\n",
      "rootdir: C:\\Users\\cesmon\\PycharmProjects\\DRONEM-APP\\dronem-app\n",
      "plugins: Faker-4.1.0, hypothesis-5.4.1, arraydiff-0.3, astropy-header-0.1.2, doctestplus-0.5.0, openfiles-0.4.0, remotedata-0.3.2\n",
      "collected 2 items\n",
      "\n",
      "test_gcd.py .F                                                           [100%]\n",
      "\n",
      "================================== FAILURES ===================================\n",
      "______________________________ test_gcd_invalid _______________________________\n",
      "\n",
      "    def test_gcd_invalid():\n",
      ">       assert computeGCD(60, 48) == 13, \"Test failed!\"\n",
      "E       AssertionError: Test failed!\n",
      "E       assert 12 == 13\n",
      "E        +  where 12 = computeGCD(60, 48)\n",
      "\n",
      "test_gcd.py:8: AssertionError\n",
      "========================= 1 failed, 1 passed in 0.15s =========================\n"
     ]
    }
   ],
   "source": [
    "!pytest test_gcd.py"
   ]
  },
  {
   "cell_type": "markdown",
   "metadata": {},
   "source": [
    "Putem observa ca un test a trecut, iar cel de-al doilea nu a trecut. In sectiunea de failures putem observa rezultatele de rulare a testelor care nu au trecut, reusind sa printam si anumite mesaje."
   ]
  },
  {
   "cell_type": "markdown",
   "metadata": {},
   "source": [
    "<a id='Faker'></a>\n",
    "\n",
    "## 5. Faker"
   ]
  },
  {
   "cell_type": "markdown",
   "metadata": {},
   "source": [
    "De multe ori in situatii de testing este nevoie sa se foloseasca date cat mai aproape de realitate, imitand utilizarea reala a aplicatiei, pentru a depista eventuale erori. __Faker__ este o librarie Python ce permite generarea de date fake diverse pentru a popula baze de date si a crea mock-uri.\n",
    "\n",
    "Pentru generare de date random, __Faker__ expune o serie de metode default, pentru atribute uzuale, dar si optiunea de a crea provideri custom, pentru a simula business case-ul propriu.\n",
    "    \n",
    "In continuare, vor fi prezentate o serie de experimente si explicatii in legatura cu folosirea API-ului oferit de aceasta librarie."
   ]
  },
  {
   "cell_type": "markdown",
   "metadata": {},
   "source": [
    "#### Initializarea unui obiect Faker"
   ]
  },
  {
   "cell_type": "code",
   "execution_count": 5,
   "metadata": {},
   "outputs": [],
   "source": [
    "from faker import Faker\n",
    "fake = Faker()"
   ]
  },
  {
   "cell_type": "markdown",
   "metadata": {},
   "source": [
    "Metodele de baza sunt cele pentru generare de atribute simple, precum nume, adrese, secvente de text si altele, dupa cum se poate observa in exemplele de mai jos."
   ]
  },
  {
   "cell_type": "markdown",
   "metadata": {},
   "source": [
    "#### Generare de nume"
   ]
  },
  {
   "cell_type": "code",
   "execution_count": 6,
   "metadata": {},
   "outputs": [
    {
     "name": "stdout",
     "output_type": "stream",
     "text": [
      "Susan Tyler\n"
     ]
    }
   ],
   "source": [
    "fake_name = fake.name()\n",
    "print(fake_name)"
   ]
  },
  {
   "cell_type": "markdown",
   "metadata": {},
   "source": [
    "#### Generare de adresa"
   ]
  },
  {
   "cell_type": "code",
   "execution_count": 7,
   "metadata": {},
   "outputs": [
    {
     "name": "stdout",
     "output_type": "stream",
     "text": [
      "11897 Taylor Coves Suite 855\n",
      "Brownland, DE 83218\n"
     ]
    }
   ],
   "source": [
    "fake_address = fake.address()\n",
    "print(fake_address)"
   ]
  },
  {
   "cell_type": "markdown",
   "metadata": {},
   "source": [
    "#### Generare de text"
   ]
  },
  {
   "cell_type": "code",
   "execution_count": 8,
   "metadata": {},
   "outputs": [
    {
     "name": "stdout",
     "output_type": "stream",
     "text": [
      "Address ever would when alone. Democrat unit improve.\n"
     ]
    }
   ],
   "source": [
    "fake_text = fake.paragraph()\n",
    "print(fake_text)"
   ]
  },
  {
   "cell_type": "markdown",
   "metadata": {},
   "source": [
    "#### Generare de data"
   ]
  },
  {
   "cell_type": "code",
   "execution_count": 9,
   "metadata": {},
   "outputs": [
    {
     "name": "stdout",
     "output_type": "stream",
     "text": [
      "2009-06-23\n"
     ]
    }
   ],
   "source": [
    "fake_date = fake.date()\n",
    "print(fake_date)"
   ]
  },
  {
   "cell_type": "markdown",
   "metadata": {},
   "source": [
    "#### Generare de numar de inmatriculare"
   ]
  },
  {
   "cell_type": "code",
   "execution_count": 10,
   "metadata": {},
   "outputs": [
    {
     "name": "stdout",
     "output_type": "stream",
     "text": [
      "LJ 4741\n"
     ]
    }
   ],
   "source": [
    "fake_license = fake.license_plate()\n",
    "print(fake_license)"
   ]
  },
  {
   "cell_type": "markdown",
   "metadata": {},
   "source": [
    "#### Generare de cont bancar"
   ]
  },
  {
   "cell_type": "code",
   "execution_count": 11,
   "metadata": {},
   "outputs": [
    {
     "name": "stdout",
     "output_type": "stream",
     "text": [
      "GB03SCUF52966935700793\n"
     ]
    }
   ],
   "source": [
    "fake_account = fake.iban()\n",
    "print(fake_account)"
   ]
  },
  {
   "cell_type": "markdown",
   "metadata": {},
   "source": [
    "#### Generare de mail"
   ]
  },
  {
   "cell_type": "code",
   "execution_count": 12,
   "metadata": {},
   "outputs": [
    {
     "name": "stdout",
     "output_type": "stream",
     "text": [
      "yodom@yahoo.com\n"
     ]
    }
   ],
   "source": [
    "fake_mail = fake.email()\n",
    "print(fake_mail)"
   ]
  },
  {
   "cell_type": "markdown",
   "metadata": {},
   "source": [
    "#### Generare de nume de companie"
   ]
  },
  {
   "cell_type": "code",
   "execution_count": 13,
   "metadata": {},
   "outputs": [
    {
     "name": "stdout",
     "output_type": "stream",
     "text": [
      "Nguyen Ltd Inc\n"
     ]
    }
   ],
   "source": [
    "fake_company = fake.company() + \" \" + fake.company_suffix()\n",
    "print(fake_company)"
   ]
  },
  {
   "cell_type": "markdown",
   "metadata": {},
   "source": [
    "#### Generare de culori"
   ]
  },
  {
   "cell_type": "code",
   "execution_count": 14,
   "metadata": {},
   "outputs": [
    {
     "name": "stdout",
     "output_type": "stream",
     "text": [
      "Orchid   |   rgb(27, 214, 158)   |   #e6b333   |   rgb(138,53,28)\n"
     ]
    }
   ],
   "source": [
    "color_name = fake.color_name()\n",
    "fake_color = fake.color(hue=(100, 200), color_format='rgb')\n",
    "fake_hex_color = fake.hex_color()\n",
    "fake_css_color = fake.rgb_css_color()\n",
    "print(color_name,\"  |  \", fake_color,\"  |  \", fake_hex_color,\"  |  \", fake_css_color)"
   ]
  },
  {
   "cell_type": "markdown",
   "metadata": {},
   "source": [
    "#### Generare de cursuri valutare"
   ]
  },
  {
   "cell_type": "code",
   "execution_count": 15,
   "metadata": {},
   "outputs": [
    {
     "name": "stdout",
     "output_type": "stream",
     "text": [
      "('BTC', 'Bitcoin')   |   ('SRD', 'Surinamese dollar')   |   ₸\n"
     ]
    }
   ],
   "source": [
    "fake_crypto = fake.cryptocurrency()\n",
    "fake_currency = fake.currency()\n",
    "fake_symbol = fake.currency_symbol()\n",
    "print(fake_crypto,\"  |  \", fake_currency, \"  |  \", fake_symbol)"
   ]
  },
  {
   "cell_type": "markdown",
   "metadata": {},
   "source": [
    "#### Generare de nume de fisiere"
   ]
  },
  {
   "cell_type": "code",
   "execution_count": 16,
   "metadata": {},
   "outputs": [
    {
     "name": "stdout",
     "output_type": "stream",
     "text": [
      "foreign.wav\n"
     ]
    }
   ],
   "source": [
    "fake_file = fake.file_name()\n",
    "print(fake_file)"
   ]
  },
  {
   "cell_type": "markdown",
   "metadata": {},
   "source": [
    "#### Generarea unui profil de utilizator"
   ]
  },
  {
   "cell_type": "code",
   "execution_count": 17,
   "metadata": {},
   "outputs": [
    {
     "name": "stdout",
     "output_type": "stream",
     "text": [
      "{'job': 'Community education officer', 'company': 'Adams-Jordan', 'ssn': '219-86-6547', 'residence': '5096 Alfred Corners Apt. 705\\nAndersonside, RI 32084', 'current_location': (Decimal('-80.7217205'), Decimal('-62.798318')), 'blood_group': 'A-', 'website': ['https://foster-hernandez.com/', 'https://perez-martinez.net/'], 'username': 'utaylor', 'name': 'Frank Chandler', 'sex': 'M', 'address': '42435 Brandi Place\\nAndrewfort, SD 10137', 'mail': 'nhunter@hotmail.com', 'birthdate': datetime.date(2004, 4, 4)}\n"
     ]
    }
   ],
   "source": [
    "fake_profile = fake.profile()\n",
    "print(fake_profile)"
   ]
  },
  {
   "cell_type": "markdown",
   "metadata": {},
   "source": [
    "#### Generare de device-uri si platforme"
   ]
  },
  {
   "cell_type": "code",
   "execution_count": 18,
   "metadata": {
    "scrolled": true
   },
   "outputs": [
    {
     "name": "stdout",
     "output_type": "stream",
     "text": [
      "Android 3.2.2\n",
      "Mozilla/5.0 (X11; Linux x86_64) AppleWebKit/534.0 (KHTML, like Gecko) Chrome/21.0.873.0 Safari/534.0\n",
      "iPad; CPU iPad OS 5_1_1 like Mac OS X\n"
     ]
    }
   ],
   "source": [
    "fake_android = fake.android_platform_token()\n",
    "fake_chrome = fake.chrome()\n",
    "fake_ios = fake.ios_platform_token()\n",
    "\n",
    "print(fake_android + \"\\n\" + fake_chrome + \"\\n\" + fake_ios)"
   ]
  },
  {
   "cell_type": "markdown",
   "metadata": {},
   "source": [
    "Pe langa capacitatea acestui frameworks de a genera date pseudo-reale, generarea de date poate fi parametrizata cu locatiile din care acestea sa provina, generand astfel informatii custom pentru diverse locatii/tari."
   ]
  },
  {
   "cell_type": "code",
   "execution_count": 19,
   "metadata": {},
   "outputs": [
    {
     "name": "stdout",
     "output_type": "stream",
     "text": [
      "Dorin Tabacu\n",
      "Eugen Mazilescu\n",
      "Надежда Егоровна Матвеева\n",
      "Dr. Irene Valencia\n",
      "Francesca Gheorghiu\n",
      "Кира Никифоровна Ситникова\n",
      "Andrés Reina Cano Luevano\n",
      "Кудрявцев Геннадий Якубович\n",
      "Filofteia Mazilescu\n",
      "Elena Araceli Miramontes Rangel\n",
      "Eugen Oprea\n",
      "Емельянов Семен Исидорович\n",
      "Алексеев Ярополк Терентьевич\n",
      "Pamela Arias Ybarra\n",
      "Lic. Humberto Solorzano\n",
      "Irene Claudio Rosas\n",
      "Itzel Victoria Naranjo Ocampo\n",
      "Monica Oprea\n",
      "Прасковья Павловна Комиссарова\n",
      "Abigail Gilberto Cervántez\n"
     ]
    }
   ],
   "source": [
    "fake = Faker(['ro_RO', 'es_MX','ru_RU', 'ja_JP'])\n",
    "for _ in range(20):\n",
    "    print(fake.name())"
   ]
  },
  {
   "cell_type": "markdown",
   "metadata": {},
   "source": [
    "#### Crearea unui obiect faker pentru o anumita regiune"
   ]
  },
  {
   "cell_type": "code",
   "execution_count": 20,
   "metadata": {},
   "outputs": [],
   "source": [
    "from faker import Factory\n",
    "fake = Factory.create('fr_FR')"
   ]
  },
  {
   "cell_type": "code",
   "execution_count": 21,
   "metadata": {},
   "outputs": [
    {
     "data": {
      "text/plain": [
       "'rue de Perrin\\n93574 Perrin'"
      ]
     },
     "execution_count": 21,
     "metadata": {},
     "output_type": "execute_result"
    }
   ],
   "source": [
    "fake.address()"
   ]
  },
  {
   "cell_type": "code",
   "execution_count": 22,
   "metadata": {},
   "outputs": [
    {
     "data": {
      "text/plain": [
       "'Cohen'"
      ]
     },
     "execution_count": 22,
     "metadata": {},
     "output_type": "execute_result"
    }
   ],
   "source": [
    "fake.city()"
   ]
  },
  {
   "cell_type": "code",
   "execution_count": 23,
   "metadata": {},
   "outputs": [
    {
     "data": {
      "text/plain": [
       "('44', 'Loire-Atlantique')"
      ]
     },
     "execution_count": 23,
     "metadata": {},
     "output_type": "execute_result"
    }
   ],
   "source": [
    "fake.department()"
   ]
  },
  {
   "cell_type": "markdown",
   "metadata": {},
   "source": [
    "Pe langa metodele oferite de aceasta librarie, ne ofera optinuea de a crea generatoare random, denumite \"Providers\". Cu aceastea, utilizatorul poate geenra date random dupa o logica custom, in interiorul unei clase similare cu cea de jos."
   ]
  },
  {
   "cell_type": "code",
   "execution_count": 24,
   "metadata": {},
   "outputs": [],
   "source": [
    "fake = Faker()\n",
    "from faker.providers import BaseProvider\n",
    "from random import choice\n",
    "\n",
    "class UniversityProvider(BaseProvider):\n",
    "    def course(self):\n",
    "        return choice([\"VVSS\", \"CN\", \"TRSI\", \"FP\", \"BI\", \"AI\"])\n",
    "    def lab_room(self):\n",
    "        return choice([513, 301, 304,339])\n",
    "    \n",
    "fake.add_provider(UniversityProvider)"
   ]
  },
  {
   "cell_type": "markdown",
   "metadata": {},
   "source": [
    "Orice metoda specificata intr-o clasa custom care extinde BaseProvider poate fi folosita in mod normal ca metoda a obiectului fake, similar ca ccele folosite anterior, precum .name() sau .date()."
   ]
  },
  {
   "cell_type": "code",
   "execution_count": 25,
   "metadata": {},
   "outputs": [
    {
     "data": {
      "text/plain": [
       "301"
      ]
     },
     "execution_count": 25,
     "metadata": {},
     "output_type": "execute_result"
    }
   ],
   "source": [
    "fake.lab_room()"
   ]
  },
  {
   "cell_type": "code",
   "execution_count": 26,
   "metadata": {},
   "outputs": [
    {
     "data": {
      "text/plain": [
       "'AI'"
      ]
     },
     "execution_count": 26,
     "metadata": {},
     "output_type": "execute_result"
    }
   ],
   "source": [
    "fake.course()"
   ]
  },
  {
   "cell_type": "markdown",
   "metadata": {},
   "source": [
    "Pe langa suita de metode prezentata pana acum, Faker este capabil sa genereze date utile in procesul de creare de software si anume date specifice limbajului Python dar si alte date tehnice precum informatii despre IP-uri."
   ]
  },
  {
   "cell_type": "code",
   "execution_count": 27,
   "metadata": {},
   "outputs": [
    {
     "data": {
      "text/plain": [
       "{'local': 4451,\n",
       " 'magazine': -1749.88670828,\n",
       " 'member': Decimal('402201.218'),\n",
       " 'number': datetime.datetime(1992, 2, 15, 20, 13, 13),\n",
       " 'contain': 'kristen24@yahoo.com',\n",
       " 'bed': 'http://www.franco.com/faq.html',\n",
       " 'success': 'wGDXicpLCcsHZvudWeKG',\n",
       " 'send': Decimal('491.0'),\n",
       " 'everything': datetime.datetime(1986, 1, 9, 17, 7, 55)}"
      ]
     },
     "execution_count": 27,
     "metadata": {},
     "output_type": "execute_result"
    }
   ],
   "source": [
    "fake_dict = fake.pydict()\n",
    "fake_dict"
   ]
  },
  {
   "cell_type": "code",
   "execution_count": 28,
   "metadata": {},
   "outputs": [
    {
     "data": {
      "text/plain": [
       "['xwxJlcjCTYbNxBeDkcJp',\n",
       " datetime.datetime(2014, 3, 6, 23, 31, 19),\n",
       " 'sCNGIAUVrXnyEyBAZNSI',\n",
       " 'VAaKnJTVaNFpjnqwkdkc',\n",
       " 'olopez@arroyo.com',\n",
       " 4133,\n",
       " 'eVggHaYaRIBBFjInHYJu',\n",
       " 'JDmodlqfwnzbfnGvcruS',\n",
       " 'awNRoYincKKerrtTUSvg',\n",
       " 'https://hernandez-hess.biz/blog/search/',\n",
       " 'OcZYwxBjpCnVqDbUioxb',\n",
       " Decimal('-64.99')]"
      ]
     },
     "execution_count": 28,
     "metadata": {},
     "output_type": "execute_result"
    }
   ],
   "source": [
    "fake_list = fake.pylist()\n",
    "fake_list"
   ]
  },
  {
   "cell_type": "code",
   "execution_count": 29,
   "metadata": {},
   "outputs": [],
   "source": [
    "from faker.providers import internet"
   ]
  },
  {
   "cell_type": "code",
   "execution_count": 30,
   "metadata": {},
   "outputs": [
    {
     "name": "stdout",
     "output_type": "stream",
     "text": [
      "192.168.11.45\n"
     ]
    }
   ],
   "source": [
    "fake = Faker()\n",
    "fake.add_provider(internet)\n",
    "\n",
    "print(fake.ipv4_private())"
   ]
  },
  {
   "cell_type": "markdown",
   "metadata": {},
   "source": [
    "Sumarizand, Faker este o librarie utila pentru generarea de date random pseudo-reale, utile in testarea aplicatiilor."
   ]
  },
  {
   "cell_type": "markdown",
   "metadata": {},
   "source": [
    "<a id='Fixtures'></a>\n",
    "\n",
    "## 6. Fixtures"
   ]
  },
  {
   "cell_type": "markdown",
   "metadata": {},
   "source": [
    "Fixturile sunt functii care initializeaza alte functii de test. Initializarea se poate referi la setarea unei baze de date, a unui serviciu, sau a unor anumite proprietati (ex: logarea fortata a unui utilizator). Utilizarea fixturilor, imbunatateste cu mult calitatea testelor, fara de stilul clasic xUnit de testare (setup/teardown). In PyTest fixturile sunt functii simple, iar acestea sunt semnalate folosind decoratorul @pytest.fixture."
   ]
  },
  {
   "cell_type": "code",
   "execution_count": 31,
   "metadata": {},
   "outputs": [],
   "source": [
    "class User:\n",
    "    \"\"\"\n",
    "    Class for representing a user in our application\n",
    "    \"\"\"\n",
    "    def __init__(self, username: str, email: str, password: str):\n",
    "        self.__username = username\n",
    "        self.__email = email\n",
    "        self.__password = password\n",
    "    \n",
    "    ### @property -> getter\n",
    "    @property\n",
    "    def username(self) -> str:\n",
    "        return self.__username\n",
    "    \n",
    "    @property\n",
    "    def email(self) -> str:\n",
    "        return self.__email\n",
    "    \n",
    "    @property\n",
    "    def password(self) -> str:\n",
    "        return self.__password\n",
    "    \n",
    "    ### @attribute -> setter\n",
    "    @username.setter\n",
    "    def username(self, val: str):\n",
    "        self.__username = val\n",
    "    \n",
    "    @password.setter\n",
    "    def password(self, val: str):\n",
    "        self.__password = val\n",
    "    \n",
    "    @email.setter\n",
    "    def email(self, val: str):\n",
    "        self.__email = val\n",
    "    \n",
    "    def __str__(self):\n",
    "        return f\"Username: {self.__username} - Password: {self.__password} - Email: {self.email}\\n\"\n"
   ]
  },
  {
   "cell_type": "code",
   "execution_count": 32,
   "metadata": {},
   "outputs": [],
   "source": [
    "import pytest\n",
    "import ipytest # in order to use pytest in jupyter notebook\n",
    "\n",
    "@pytest.fixture\n",
    "def user():\n",
    "    \"\"\"\n",
    "    Create user with random username, password, email, using fake\n",
    "    \"\"\"\n",
    "    return User(username=fake.name(), password=fake.password(), \n",
    "               email=fake.email())\n",
    "\n",
    "\n",
    "def test_user(user):\n",
    "    print(f\"\\nFake user is: {user}\")"
   ]
  },
  {
   "cell_type": "code",
   "execution_count": 33,
   "metadata": {},
   "outputs": [
    {
     "name": "stdout",
     "output_type": "stream",
     "text": [
      "============================= test session starts =============================\n",
      "platform win32 -- Python 3.7.6, pytest-5.3.5, py-1.8.1, pluggy-0.13.1\n",
      "rootdir: C:\\Users\\cesmon\\PycharmProjects\\DRONEM-APP\\dronem-app\n",
      "plugins: Faker-4.1.0, hypothesis-5.4.1, arraydiff-0.3, astropy-header-0.1.2, doctestplus-0.5.0, openfiles-0.4.0, remotedata-0.3.2\n",
      "collected 1 item\n",
      "\n",
      "test_user_fixtures.py Fake user is: Username: Kevin Williams - Password: @o36fMYs1V - Email: odonnellamber@yahoo.com\n",
      "\n",
      ".\n",
      "\n",
      "============================== warnings summary ===============================\n",
      "C:\\Users\\cesmon\\Anaconda3\\lib\\site-packages\\ipytest\\_unittest_support.py:18\n",
      "  C:\\Users\\cesmon\\Anaconda3\\lib\\site-packages\\ipytest\\_unittest_support.py:18: FutureWarning: pandas.util.testing is deprecated. Use the functions in the public API at pandas.testing instead.\n",
      "    import pandas.util.testing as _pd_testing\n",
      "\n",
      "-- Docs: https://docs.pytest.org/en/latest/warnings.html\n",
      "======================== 1 passed, 1 warning in 1.26s =========================\n"
     ]
    }
   ],
   "source": [
    "!pytest test_user_fixtures.py -s"
   ]
  },
  {
   "cell_type": "code",
   "execution_count": 34,
   "metadata": {},
   "outputs": [],
   "source": [
    "@pytest.fixture\n",
    "def user_invalid_name():\n",
    "    \"\"\"\n",
    "    Create user with random password, email, and invalid name using fake\n",
    "    \"\"\"\n",
    "    return User(username=\".p123axzc~wqq \", password=fake.password(), \n",
    "               email=fake.email())\n",
    "\n",
    "\n",
    "def is_username_valid(username: str):\n",
    "    for char in username:\n",
    "        if char in \"?~ -\":\n",
    "            return False\n",
    "    \n",
    "    return True\n",
    "\n",
    "def test_user_invalid_name(user_invalid_name):\n",
    "    username = user_invalid_name.username\n",
    "\n",
    "    assert is_username_valid(username) is False "
   ]
  },
  {
   "cell_type": "code",
   "execution_count": 35,
   "metadata": {},
   "outputs": [
    {
     "name": "stdout",
     "output_type": "stream",
     "text": [
      "============================= test session starts =============================\n",
      "platform win32 -- Python 3.7.6, pytest-5.3.5, py-1.8.1, pluggy-0.13.1\n",
      "rootdir: C:\\Users\\cesmon\\PycharmProjects\\DRONEM-APP\\dronem-app\n",
      "plugins: Faker-4.1.0, hypothesis-5.4.1, arraydiff-0.3, astropy-header-0.1.2, doctestplus-0.5.0, openfiles-0.4.0, remotedata-0.3.2\n",
      "collected 1 item\n",
      "\n",
      "test_user_invalid_name_fixtures.py .\n",
      "\n",
      "============================== warnings summary ===============================\n",
      "C:\\Users\\cesmon\\Anaconda3\\lib\\site-packages\\ipytest\\_unittest_support.py:18\n",
      "  C:\\Users\\cesmon\\Anaconda3\\lib\\site-packages\\ipytest\\_unittest_support.py:18: FutureWarning: pandas.util.testing is deprecated. Use the functions in the public API at pandas.testing instead.\n",
      "    import pandas.util.testing as _pd_testing\n",
      "\n",
      "-- Docs: https://docs.pytest.org/en/latest/warnings.html\n",
      "======================== 1 passed, 1 warning in 1.23s =========================\n"
     ]
    }
   ],
   "source": [
    "!pytest test_user_invalid_name_fixtures.py -s"
   ]
  },
  {
   "cell_type": "markdown",
   "metadata": {},
   "source": [
    "<a id='MonkeyPatch'></a>\n",
    "\n",
    "## 7. Monkey Patch"
   ]
  },
  {
   "cell_type": "markdown",
   "metadata": {},
   "source": [
    "Monkey Patch este simpla inlocuire dinamica a atributelor la momentul rularii.\n",
    "Avand in vedere faptul ca in Python clasele sunt mutabile, monkey patch doar inlocuieste un atribut al unei clase cu un alt atribut, astfel putem obtine comportament similar cu cel al mock-ului (precum Mockito din limbajul Java).\n"
   ]
  },
  {
   "cell_type": "code",
   "execution_count": 36,
   "metadata": {},
   "outputs": [],
   "source": [
    "import pytest\n",
    "\n",
    "# contents of test_module.py with source code and the test\n",
    "from pathlib import Path\n",
    "\n",
    "\n",
    "def getssh():\n",
    "    \"\"\"Simple function to return expanded homedir ssh path.\"\"\"\n",
    "    return Path.home() / \".ssh\"\n",
    "\n",
    "\n",
    "def test_getssh(monkeypatch):\n",
    "    # mocked return function to replace Path.home\n",
    "    # always return '/abc'\n",
    "    def mockreturn():\n",
    "        return Path(\"/abc\")\n",
    "\n",
    "    # Application of the monkeypatch to replace Path.home\n",
    "    # with the behavior of mockreturn defined above.\n",
    "    monkeypatch.setattr(Path, \"home\", mockreturn)\n",
    "\n",
    "    # Calling getssh() will use mockreturn in place of Path.home\n",
    "    # for this test with the monkeypatch.\n",
    "    x = getssh()\n",
    "    assert x == Path(\"/abc/.ssh\")"
   ]
  },
  {
   "cell_type": "code",
   "execution_count": 37,
   "metadata": {},
   "outputs": [
    {
     "name": "stdout",
     "output_type": "stream",
     "text": [
      "============================= test session starts =============================\n",
      "platform win32 -- Python 3.7.6, pytest-5.3.5, py-1.8.1, pluggy-0.13.1\n",
      "rootdir: C:\\Users\\cesmon\\PycharmProjects\\DRONEM-APP\\dronem-app\n",
      "plugins: Faker-4.1.0, hypothesis-5.4.1, arraydiff-0.3, astropy-header-0.1.2, doctestplus-0.5.0, openfiles-0.4.0, remotedata-0.3.2\n",
      "collected 1 item\n",
      "\n",
      "test_monkey_patch.py .                                                   [100%]\n",
      "\n",
      "============================== 1 passed in 0.12s ==============================\n"
     ]
    }
   ],
   "source": [
    "!pytest test_monkey_patch.py"
   ]
  },
  {
   "cell_type": "markdown",
   "metadata": {
    "pycharm": {
     "name": "#%% md\n"
    }
   },
   "source": [
    "<a id='Parametrize'></a>\n",
    "\n",
    "## 8. Pytest Parametrize\n",
    "\n",
    "Framework-ul Pytest ne permite definirea valorilor parametrilor unei functii direct in fisierul in care a fost definit\n",
    "testul folosind decoratorul @pytest.mark.parametrize.\n",
    "\n",
    "Avantajul acestei metode este ca se pot scrie rapid cazuri de testare functiile cu un numar mic de parametrii. Insa in\n",
    "cazul in care functia care trebuie sa fie testate, parametrizarea este folosita impreuna cu fixturile. Fixturile asigura\n",
    "un set de date de baza pentru fiecare test, iar parametrizarea asigura variatia\n",
    "parametrilor intre teste.\n",
    "\n",
    "Parametrizarea nu este limitata doar la tipuri primitive. Orice alt tip poate fi trimis.\n"
   ]
  },
  {
   "cell_type": "code",
   "execution_count": 38,
   "metadata": {
    "pycharm": {
     "name": "#%%\n"
    }
   },
   "outputs": [],
   "source": [
    "import pytest\n",
    "import math\n",
    "\n",
    "\n",
    "@pytest.mark.parametrize(\n",
    "    \"a,b,expected_output\",\n",
    "    [\n",
    "        (6, 3, 3),\n",
    "        (17, 23, 1),\n",
    "        (4, 4, 2)\n",
    "    ]\n",
    ")\n",
    "def test_gcd(a, b, expected_output):\n",
    "    assert math.gcd(a, b) == expected_output"
   ]
  },
  {
   "cell_type": "code",
   "execution_count": 39,
   "metadata": {},
   "outputs": [
    {
     "name": "stdout",
     "output_type": "stream",
     "text": [
      "============================= test session starts =============================\n",
      "platform win32 -- Python 3.7.6, pytest-5.3.5, py-1.8.1, pluggy-0.13.1\n",
      "rootdir: C:\\Users\\cesmon\\PycharmProjects\\DRONEM-APP\\dronem-app\n",
      "plugins: Faker-4.1.0, hypothesis-5.4.1, arraydiff-0.3, astropy-header-0.1.2, doctestplus-0.5.0, openfiles-0.4.0, remotedata-0.3.2\n",
      "collected 3 items\n",
      "\n",
      "test_parametrize.py ..F                                                  [100%]\n",
      "\n",
      "================================== FAILURES ===================================\n",
      "_______________________________ test_gcd[4-4-2] _______________________________\n",
      "\n",
      "a = 4, b = 4, expected_output = 2\n",
      "\n",
      "    @pytest.mark.parametrize(\n",
      "        \"a,b,expected_output\",\n",
      "        [\n",
      "            (6, 3, 3),\n",
      "            (17, 23, 1),\n",
      "            (4, 4, 2)\n",
      "        ]\n",
      "    )\n",
      "    def test_gcd(a, b, expected_output):\n",
      ">       assert math.gcd(a, b) == expected_output\n",
      "E       assert 4 == 2\n",
      "E        +  where 4 = <built-in function gcd>(4, 4)\n",
      "E        +    where <built-in function gcd> = math.gcd\n",
      "\n",
      "test_parametrize.py:14: AssertionError\n",
      "========================= 1 failed, 2 passed in 0.15s =========================\n"
     ]
    }
   ],
   "source": [
    "!pytest test_parametrize.py"
   ]
  }
 ],
 "metadata": {
  "kernelspec": {
   "display_name": "Python 3",
   "language": "python",
   "name": "python3"
  },
  "language_info": {
   "codemirror_mode": {
    "name": "ipython",
    "version": 3
   },
   "file_extension": ".py",
   "mimetype": "text/x-python",
   "name": "python",
   "nbconvert_exporter": "python",
   "pygments_lexer": "ipython3",
   "version": "3.7.6"
  }
 },
 "nbformat": 4,
 "nbformat_minor": 2
}
