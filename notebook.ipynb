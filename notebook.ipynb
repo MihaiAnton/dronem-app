{
 "cells": [
  {
   "cell_type": "markdown",
   "metadata": {},
   "source": [
    "# Proiect VVSS - testare in Python"
   ]
  },
  {
   "cell_type": "code",
   "execution_count": null,
   "metadata": {},
   "outputs": [],
   "source": [
    "!pip install Faker"
   ]
  },
  {
   "cell_type": "markdown",
   "metadata": {},
   "source": [
    "## 1. Introducere"
   ]
  },
  {
   "cell_type": "markdown",
   "metadata": {},
   "source": [
    "## 2. PyTest"
   ]
  },
  {
   "cell_type": "markdown",
   "metadata": {},
   "source": [
    "## 3. Mokey Patch"
   ]
  },
  {
   "cell_type": "markdown",
   "metadata": {},
   "source": [
    "## 4. Faker"
   ]
  },
  {
   "cell_type": "markdown",
   "metadata": {},
   "source": [
    "    De multe ori in situatii de testing este nevoie sa se foloseasca date cat mai aproape de realitate, imitand utilizarea reala a aplicatiei, pentru a depista eventuale erori. __Faker__ este o librarie Python ce permite generarea de date fake diverse pentru a popula baze de date si a crea mock-uri.\n",
    "\n",
    "    Pentru generare de date random, __Faker__ expune o serie de metode default, pentru atribute uzuale, dar si optiunea de a crea provideri custom, pentru a simula business case-ul propriu.\n",
    "    \n",
    "    In continuare, vor fi prezentate o serie de experimente si explicatii in legatura cu folosirea API-ului oferit de aceasta librarie."
   ]
  },
  {
   "cell_type": "markdown",
   "metadata": {},
   "source": [
    "#### Initializarea unui obiect Faker"
   ]
  },
  {
   "cell_type": "code",
   "execution_count": 1,
   "metadata": {},
   "outputs": [],
   "source": [
    "from faker import Faker\n",
    "fake = Faker()"
   ]
  },
  {
   "cell_type": "markdown",
   "metadata": {},
   "source": [
    "    Metodele de baza sunt cele pentru generare de atribute simple, precum nume, adrese, secvente de text si altele, dupa cum se poate observa in exemplele de mai jos."
   ]
  },
  {
   "cell_type": "markdown",
   "metadata": {},
   "source": [
    "#### Generare de nume"
   ]
  },
  {
   "cell_type": "code",
   "execution_count": 2,
   "metadata": {},
   "outputs": [
    {
     "name": "stdout",
     "output_type": "stream",
     "text": [
      "David Phillips DVM\n"
     ]
    }
   ],
   "source": [
    "fake_name = fake.name()\n",
    "print(fake_name)"
   ]
  },
  {
   "cell_type": "markdown",
   "metadata": {},
   "source": [
    "#### Generare de adresa"
   ]
  },
  {
   "cell_type": "code",
   "execution_count": 3,
   "metadata": {},
   "outputs": [
    {
     "name": "stdout",
     "output_type": "stream",
     "text": [
      "597 Paige Center\n",
      "Lake Jean, WY 01221\n"
     ]
    }
   ],
   "source": [
    "fake_address = fake.address()\n",
    "print(fake_address)"
   ]
  },
  {
   "cell_type": "markdown",
   "metadata": {},
   "source": [
    "#### Generare de text"
   ]
  },
  {
   "cell_type": "code",
   "execution_count": 4,
   "metadata": {},
   "outputs": [
    {
     "name": "stdout",
     "output_type": "stream",
     "text": [
      "Available give leg thus. Finish message woman president side animal challenge.\n"
     ]
    }
   ],
   "source": [
    "fake_text = fake.paragraph()\n",
    "print(fake_text)"
   ]
  },
  {
   "cell_type": "markdown",
   "metadata": {},
   "source": [
    "#### Generare de data"
   ]
  },
  {
   "cell_type": "code",
   "execution_count": 18,
   "metadata": {},
   "outputs": [
    {
     "name": "stdout",
     "output_type": "stream",
     "text": [
      "2004-04-19\n"
     ]
    }
   ],
   "source": [
    "fake_date = fake.date()\n",
    "print(fake_date)"
   ]
  },
  {
   "cell_type": "markdown",
   "metadata": {},
   "source": [
    "#### Generare de numar de inmatriculare"
   ]
  },
  {
   "cell_type": "code",
   "execution_count": 29,
   "metadata": {},
   "outputs": [
    {
     "name": "stdout",
     "output_type": "stream",
     "text": [
      "N43 2IY\n"
     ]
    }
   ],
   "source": [
    "fake_license = fake.license_plate()\n",
    "print(fake_license)"
   ]
  },
  {
   "cell_type": "markdown",
   "metadata": {},
   "source": [
    "#### Generare de cont bancar"
   ]
  },
  {
   "cell_type": "code",
   "execution_count": 30,
   "metadata": {},
   "outputs": [
    {
     "name": "stdout",
     "output_type": "stream",
     "text": [
      "GB06SCIU90006540009452\n"
     ]
    }
   ],
   "source": [
    "fake_account = fake.iban()\n",
    "print(fake_account)"
   ]
  },
  {
   "cell_type": "markdown",
   "metadata": {},
   "source": [
    "#### Generare de mail"
   ]
  },
  {
   "cell_type": "code",
   "execution_count": 38,
   "metadata": {},
   "outputs": [
    {
     "name": "stdout",
     "output_type": "stream",
     "text": [
      "jamieshah@hotmail.com\n"
     ]
    }
   ],
   "source": [
    "fake_mail = fake.email()\n",
    "print(fake_mail)"
   ]
  },
  {
   "cell_type": "markdown",
   "metadata": {},
   "source": [
    "#### Generare de nume de companie"
   ]
  },
  {
   "cell_type": "code",
   "execution_count": 44,
   "metadata": {},
   "outputs": [
    {
     "name": "stdout",
     "output_type": "stream",
     "text": [
      "Lee, Gonzalez and Ortiz Group\n"
     ]
    }
   ],
   "source": [
    "fake_company = fake.company() + \" \" + fake.company_suffix()\n",
    "print(fake_company)"
   ]
  },
  {
   "cell_type": "markdown",
   "metadata": {},
   "source": [
    "#### Generare de culori"
   ]
  },
  {
   "cell_type": "code",
   "execution_count": 48,
   "metadata": {},
   "outputs": [
    {
     "name": "stdout",
     "output_type": "stream",
     "text": [
      "AliceBlue   |   rgb(75, 237, 30)   |   #9ceb91   |   rgb(216,133,172)\n"
     ]
    }
   ],
   "source": [
    "color_name = fake.color_name()\n",
    "fake_color = fake.color(hue=(100, 200), color_format='rgb')\n",
    "fake_hex_color = fake.hex_color()\n",
    "fake_css_color = fake.rgb_css_color()\n",
    "print(color_name,\"  |  \", fake_color,\"  |  \", fake_hex_color,\"  |  \", fake_css_color)"
   ]
  },
  {
   "cell_type": "markdown",
   "metadata": {},
   "source": [
    "#### Generare de cursuri valutare"
   ]
  },
  {
   "cell_type": "code",
   "execution_count": 50,
   "metadata": {},
   "outputs": [
    {
     "name": "stdout",
     "output_type": "stream",
     "text": [
      "('DRC', 'Decred')   |   ('PKR', 'Pakistani rupee')   |   $\n"
     ]
    }
   ],
   "source": [
    "fake_crypto = fake.cryptocurrency()\n",
    "fake_currency = fake.currency()\n",
    "fake_symbol = fake.currency_symbol()\n",
    "print(fake_crypto,\"  |  \", fake_currency, \"  |  \", fake_symbol)"
   ]
  },
  {
   "cell_type": "markdown",
   "metadata": {},
   "source": [
    "#### Generare de nume de fisiere"
   ]
  },
  {
   "cell_type": "code",
   "execution_count": 51,
   "metadata": {},
   "outputs": [
    {
     "name": "stdout",
     "output_type": "stream",
     "text": [
      "nothing.jpg\n"
     ]
    }
   ],
   "source": [
    "fake_file = fake.file_name()\n",
    "print(fake_file)"
   ]
  },
  {
   "cell_type": "markdown",
   "metadata": {},
   "source": [
    "#### Generarea unui profil de utilizator"
   ]
  },
  {
   "cell_type": "code",
   "execution_count": 58,
   "metadata": {},
   "outputs": [
    {
     "name": "stdout",
     "output_type": "stream",
     "text": [
      "{'job': 'Warden/ranger', 'company': 'Reynolds Inc', 'ssn': '435-49-7179', 'residence': '5072 Marilyn Fork\\nEast Christinemouth, PA 47823', 'current_location': (Decimal('-3.285833'), Decimal('13.367240')), 'blood_group': 'B-', 'website': ['https://walker-edwards.biz/'], 'username': 'james78', 'name': 'Christopher Miller', 'sex': 'M', 'address': '040 Lindsey Isle Apt. 271\\nNew Jenniferside, NC 66181', 'mail': 'jamie09@gmail.com', 'birthdate': datetime.date(1941, 7, 1)}\n"
     ]
    }
   ],
   "source": [
    "fake_profile = fake.profile()\n",
    "print(fake_profile)"
   ]
  },
  {
   "cell_type": "markdown",
   "metadata": {},
   "source": [
    "#### Generare de device-uri si platforme"
   ]
  },
  {
   "cell_type": "code",
   "execution_count": 60,
   "metadata": {},
   "outputs": [
    {
     "name": "stdout",
     "output_type": "stream",
     "text": [
      "Android 9\n",
      "Mozilla/5.0 (X11; Linux i686) AppleWebKit/536.0 (KHTML, like Gecko) Chrome/20.0.824.0 Safari/536.0\n",
      "iPhone; CPU iPhone OS 4_2_1 like Mac OS X\n"
     ]
    }
   ],
   "source": [
    "fake_android = fake.android_platform_token()\n",
    "fake_chrome = fake.chrome()\n",
    "fake_ios = fake.ios_platform_token()\n",
    "\n",
    "print(fake_android + \"\\n\" + fake_chrome + \"\\n\" + fake_ios)"
   ]
  },
  {
   "cell_type": "markdown",
   "metadata": {},
   "source": [
    "    Pe langa capacitatea acestui frameworks de a genera date pseudo-reale, generarea de date poate fi parametrizata cu locatiile din care acestea sa provina, generand astfel informatii custom pentru diverse locatii/tari."
   ]
  },
  {
   "cell_type": "code",
   "execution_count": 62,
   "metadata": {},
   "outputs": [
    {
     "name": "stdout",
     "output_type": "stream",
     "text": [
      "г-н Федосеев Яков Валерьянович\n",
      "Flavia Stan\n",
      "Dr. José María Valles\n",
      "Olga Eftimie\n",
      "Úrsula Castañeda\n",
      "Lic. Miguel Soliz\n",
      "Tudosia Ioniță\n",
      "Zenovia Stoica\n",
      "Мариан Жанович Воробьев\n",
      "Алла Филипповна Дмитриева\n",
      "Фомичева Синклитикия Юльевна\n",
      "Adelin Popescu\n",
      "Филиппова Нина Григорьевна\n",
      "Reynaldo Roberto Bonilla\n",
      "Dr. Claudia Salinas\n",
      "Мартын Иосифович Яковлев\n",
      "井高 陽子\n",
      "Ileana Pușcașu\n",
      "Minerva Matos Alvarado\n",
      "笹田 翔太\n"
     ]
    }
   ],
   "source": [
    "fake = Faker(['ro_RO', 'es_MX','ru_RU', 'ja_JP'])\n",
    "for _ in range(20):\n",
    "    print(fake.name())"
   ]
  },
  {
   "cell_type": "markdown",
   "metadata": {},
   "source": [
    "#### Crearea unui obiect faker pentru o anumita regiune"
   ]
  },
  {
   "cell_type": "code",
   "execution_count": 103,
   "metadata": {},
   "outputs": [],
   "source": [
    "from faker import Factory\n",
    "fake = Factory.create('fr_FR')"
   ]
  },
  {
   "cell_type": "code",
   "execution_count": 105,
   "metadata": {},
   "outputs": [
    {
     "data": {
      "text/plain": [
       "'boulevard Geneviève Georges\\n25104 AlbertVille'"
      ]
     },
     "execution_count": 105,
     "metadata": {},
     "output_type": "execute_result"
    }
   ],
   "source": [
    "fake.address()"
   ]
  },
  {
   "cell_type": "code",
   "execution_count": 106,
   "metadata": {},
   "outputs": [
    {
     "data": {
      "text/plain": [
       "'Saint Margot'"
      ]
     },
     "execution_count": 106,
     "metadata": {},
     "output_type": "execute_result"
    }
   ],
   "source": [
    "fake.city()"
   ]
  },
  {
   "cell_type": "code",
   "execution_count": 118,
   "metadata": {},
   "outputs": [
    {
     "data": {
      "text/plain": [
       "('29', 'Finistère')"
      ]
     },
     "execution_count": 118,
     "metadata": {},
     "output_type": "execute_result"
    }
   ],
   "source": [
    "fake.department()"
   ]
  },
  {
   "cell_type": "markdown",
   "metadata": {},
   "source": [
    "    Pe langa metodele oferite de aceasta librarie, ne ofera optinuea de a crea generatoare random, denumite \"Providers\". Cu aceastea, utilizatorul poate geenra date random dupa o logica custom, in interiorul unei clase similare cu cea de jos."
   ]
  },
  {
   "cell_type": "code",
   "execution_count": 76,
   "metadata": {},
   "outputs": [],
   "source": [
    "fake = Faker()\n",
    "from faker.providers import BaseProvider\n",
    "from random import choice\n",
    "\n",
    "class UniversityProvider(BaseProvider):\n",
    "    def course(self):\n",
    "        return choice([\"VVSS\", \"CN\", \"TRSI\", \"FP\", \"BI\", \"AI\"])\n",
    "    def lab_room(self):\n",
    "        return choice([513, 301, 304,339])\n",
    "    \n",
    "fake.add_provider(UniversityProvider)"
   ]
  },
  {
   "cell_type": "markdown",
   "metadata": {},
   "source": [
    "    Orice metoda specificata intr-o clasa custom care extinde BaseProvider poate fi folosita in mod normal ca metoda a obiectului fake, similar ca ccele folosite anterior, precum .name() sau .date()."
   ]
  },
  {
   "cell_type": "code",
   "execution_count": 74,
   "metadata": {},
   "outputs": [
    {
     "data": {
      "text/plain": [
       "513"
      ]
     },
     "execution_count": 74,
     "metadata": {},
     "output_type": "execute_result"
    }
   ],
   "source": [
    "fake.lab_room()"
   ]
  },
  {
   "cell_type": "code",
   "execution_count": 75,
   "metadata": {},
   "outputs": [
    {
     "data": {
      "text/plain": [
       "'TRSI'"
      ]
     },
     "execution_count": 75,
     "metadata": {},
     "output_type": "execute_result"
    }
   ],
   "source": [
    "fake.course()"
   ]
  },
  {
   "cell_type": "markdown",
   "metadata": {},
   "source": [
    "    Pe langa suita de metode prezentata pana acum, Faker este capabil sa genereze date utile in procesul de creare de software si anume date specifice limbajului Python dar si alte date tehnice precum informatii despre IP-uri."
   ]
  },
  {
   "cell_type": "code",
   "execution_count": 122,
   "metadata": {},
   "outputs": [
    {
     "data": {
      "text/plain": [
       "{'système': Decimal('7.5941'),\n",
       " 'maître': 'https://duhamel.org/category/tags/homepage.php',\n",
       " 'détacher': datetime.datetime(1977, 12, 22, 4, 14),\n",
       " 'animal': 6833,\n",
       " 'prévenir': 7665,\n",
       " 'pays': Decimal('-0.5'),\n",
       " 'briser': 7569,\n",
       " 'marchand': 7011,\n",
       " 'rapide': 'luce24@vasseur.fr',\n",
       " 'rose': 6096}"
      ]
     },
     "execution_count": 122,
     "metadata": {},
     "output_type": "execute_result"
    }
   ],
   "source": [
    "fake_dict = fake.pydict()\n",
    "fake_dict"
   ]
  },
  {
   "cell_type": "code",
   "execution_count": 123,
   "metadata": {},
   "outputs": [
    {
     "data": {
      "text/plain": [
       "['UDhoiEkcNzQUwlAliHoI',\n",
       " Decimal('-3737439325.0'),\n",
       " Decimal('7589515397.46739'),\n",
       " 'https://www.goncalves.com/main.asp',\n",
       " datetime.datetime(1985, 2, 23, 12, 25, 35),\n",
       " 'bNfGuflCjViXMpjLWQuW']"
      ]
     },
     "execution_count": 123,
     "metadata": {},
     "output_type": "execute_result"
    }
   ],
   "source": [
    "fake_list = fake.pylist()\n",
    "fake_list"
   ]
  },
  {
   "cell_type": "code",
   "execution_count": 124,
   "metadata": {},
   "outputs": [],
   "source": [
    "from faker.providers import internet"
   ]
  },
  {
   "cell_type": "code",
   "execution_count": 125,
   "metadata": {},
   "outputs": [
    {
     "name": "stdout",
     "output_type": "stream",
     "text": [
      "172.29.174.231\n"
     ]
    }
   ],
   "source": [
    "fake = Faker()\n",
    "fake.add_provider(internet)\n",
    "\n",
    "print(fake.ipv4_private())"
   ]
  },
  {
   "cell_type": "markdown",
   "metadata": {},
   "source": [
    "    Sumarizand, Faker este o librarie utila pentru generarea de date random pseudo-reale, utile in testarea aplicatiilor."
   ]
  },
  {
   "cell_type": "markdown",
   "metadata": {},
   "source": [
    "## 5. Fixture"
   ]
  }
 ],
 "metadata": {
  "kernelspec": {
   "display_name": "Python 3",
   "language": "python",
   "name": "python3"
  },
  "language_info": {
   "codemirror_mode": {
    "name": "ipython",
    "version": 3
   },
   "file_extension": ".py",
   "mimetype": "text/x-python",
   "name": "python",
   "nbconvert_exporter": "python",
   "pygments_lexer": "ipython3",
   "version": "3.7.7"
  }
 },
 "nbformat": 4,
 "nbformat_minor": 2
}
