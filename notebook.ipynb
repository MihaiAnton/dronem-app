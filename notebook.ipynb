{
 "cells": [
  {
   "cell_type": "markdown",
   "metadata": {},
   "source": [
    "# Proiect VVSS - testare in Python folosind Pytest"
   ]
  },
  {
   "cell_type": "code",
   "execution_count": 41,
   "metadata": {},
   "outputs": [
    {
     "name": "stdout",
     "output_type": "stream",
     "text": [
      "Requirement already satisfied: Faker in /home/geo/anaconda3/envs/AI/lib/python3.7/site-packages (4.0.2)\n",
      "Requirement already satisfied: text-unidecode==1.3 in /home/geo/anaconda3/envs/AI/lib/python3.7/site-packages (from Faker) (1.3)\n",
      "Requirement already satisfied: python-dateutil>=2.4 in /home/geo/anaconda3/envs/AI/lib/python3.7/site-packages (from Faker) (2.8.1)\n",
      "Requirement already satisfied: six>=1.5 in /home/geo/anaconda3/envs/AI/lib/python3.7/site-packages (from python-dateutil>=2.4->Faker) (1.14.0)\n",
      "Collecting ipytest\n",
      "  Downloading ipytest-0.8.1-py3-none-any.whl (14 kB)\n",
      "Requirement already satisfied: packaging in /home/geo/anaconda3/envs/AI/lib/python3.7/site-packages (from ipytest) (20.3)\n",
      "Requirement already satisfied: pyparsing>=2.0.2 in /home/geo/anaconda3/envs/AI/lib/python3.7/site-packages (from packaging->ipytest) (2.4.6)\n",
      "Requirement already satisfied: six in /home/geo/anaconda3/envs/AI/lib/python3.7/site-packages (from packaging->ipytest) (1.14.0)\n",
      "Installing collected packages: ipytest\n",
      "Successfully installed ipytest-0.8.1\n"
     ]
    }
   ],
   "source": [
    "!pip install Faker\n",
    "!pip install ipytest\n",
    "!pip install pytest"
   ]
  },
  {
   "cell_type": "markdown",
   "metadata": {},
   "source": [
    "## 1. Introducere"
   ]
  },
  {
   "cell_type": "markdown",
   "metadata": {},
   "source": [
    "## 2. Configurare proiect"
   ]
  },
  {
   "cell_type": "markdown",
   "metadata": {},
   "source": [
    "## 3. Configurare Framework"
   ]
  },
  {
   "cell_type": "markdown",
   "metadata": {},
   "source": [
    "## 4. PyTest"
   ]
  },
  {
   "cell_type": "markdown",
   "metadata": {},
   "source": [
    "    PyTest este un framework care permite testarea aplicatiilor scrise in Python, acesta putand fi folosit atat pentru a testa o baza de date, API-uri sau UI, dar de cele mai multe ori in industrie acest framework este folosit pentru testarea API-urilor.\n",
    "Cateva dintre avantajele folosirii PyTest sunt:\n",
    "- Usor de configurat, sintaxa simpla\n",
    "- Poate rula teste in paralel\n",
    "- Poate detecta automat teste\n",
    "- Poate rula teste/subteste speicifice\n",
    "- Open source\n",
    "\n",
    "//De facut teste simple in PyTest -> Cosmin, Gabi"
   ]
  },
  {
   "cell_type": "markdown",
   "metadata": {},
   "source": [
    "## 5. Faker"
   ]
  },
  {
   "cell_type": "markdown",
   "metadata": {},
   "source": [
    "    De multe ori in situatii de testing este nevoie sa se foloseasca date cat mai aproape de realitate, imitand utilizarea reala a aplicatiei, pentru a depista eventuale erori. __Faker__ este o librarie Python ce permite generarea de date fake diverse pentru a popula baze de date si a crea mock-uri.\n",
    "\n",
    "    Pentru generare de date random, __Faker__ expune o serie de metode default, pentru atribute uzuale, dar si optiunea de a crea provideri custom, pentru a simula business case-ul propriu.\n",
    "    \n",
    "    In continuare, vor fi prezentate o serie de experimente si explicatii in legatura cu folosirea API-ului oferit de aceasta librarie."
   ]
  },
  {
   "cell_type": "markdown",
   "metadata": {},
   "source": [
    "#### Initializarea unui obiect Faker"
   ]
  },
  {
   "cell_type": "code",
   "execution_count": 3,
   "metadata": {},
   "outputs": [],
   "source": [
    "from faker import Faker\n",
    "fake = Faker()"
   ]
  },
  {
   "cell_type": "markdown",
   "metadata": {},
   "source": [
    "    Metodele de baza sunt cele pentru generare de atribute simple, precum nume, adrese, secvente de text si altele, dupa cum se poate observa in exemplele de mai jos."
   ]
  },
  {
   "cell_type": "markdown",
   "metadata": {},
   "source": [
    "#### Generare de nume"
   ]
  },
  {
   "cell_type": "code",
   "execution_count": 4,
   "metadata": {},
   "outputs": [
    {
     "name": "stdout",
     "output_type": "stream",
     "text": [
      "John Payne\n"
     ]
    }
   ],
   "source": [
    "fake_name = fake.name()\n",
    "print(fake_name)"
   ]
  },
  {
   "cell_type": "markdown",
   "metadata": {},
   "source": [
    "#### Generare de adresa"
   ]
  },
  {
   "cell_type": "code",
   "execution_count": 5,
   "metadata": {},
   "outputs": [
    {
     "name": "stdout",
     "output_type": "stream",
     "text": [
      "56016 Andrew Creek\n",
      "Farrellburgh, MA 21073\n"
     ]
    }
   ],
   "source": [
    "fake_address = fake.address()\n",
    "print(fake_address)"
   ]
  },
  {
   "cell_type": "markdown",
   "metadata": {},
   "source": [
    "#### Generare de text"
   ]
  },
  {
   "cell_type": "code",
   "execution_count": 6,
   "metadata": {},
   "outputs": [
    {
     "name": "stdout",
     "output_type": "stream",
     "text": [
      "Party today build work sound. Suddenly national southern partner stage. Cold read people while least both.\n"
     ]
    }
   ],
   "source": [
    "fake_text = fake.paragraph()\n",
    "print(fake_text)"
   ]
  },
  {
   "cell_type": "markdown",
   "metadata": {},
   "source": [
    "#### Generare de data"
   ]
  },
  {
   "cell_type": "code",
   "execution_count": 7,
   "metadata": {},
   "outputs": [
    {
     "name": "stdout",
     "output_type": "stream",
     "text": [
      "1985-02-07\n"
     ]
    }
   ],
   "source": [
    "fake_date = fake.date()\n",
    "print(fake_date)"
   ]
  },
  {
   "cell_type": "markdown",
   "metadata": {},
   "source": [
    "#### Generare de numar de inmatriculare"
   ]
  },
  {
   "cell_type": "code",
   "execution_count": 8,
   "metadata": {},
   "outputs": [
    {
     "name": "stdout",
     "output_type": "stream",
     "text": [
      "AFH-6620\n"
     ]
    }
   ],
   "source": [
    "fake_license = fake.license_plate()\n",
    "print(fake_license)"
   ]
  },
  {
   "cell_type": "markdown",
   "metadata": {},
   "source": [
    "#### Generare de cont bancar"
   ]
  },
  {
   "cell_type": "code",
   "execution_count": 9,
   "metadata": {},
   "outputs": [
    {
     "name": "stdout",
     "output_type": "stream",
     "text": [
      "GB45LRSV27952673308619\n"
     ]
    }
   ],
   "source": [
    "fake_account = fake.iban()\n",
    "print(fake_account)"
   ]
  },
  {
   "cell_type": "markdown",
   "metadata": {},
   "source": [
    "#### Generare de mail"
   ]
  },
  {
   "cell_type": "code",
   "execution_count": 10,
   "metadata": {},
   "outputs": [
    {
     "name": "stdout",
     "output_type": "stream",
     "text": [
      "billy49@gillespie.com\n"
     ]
    }
   ],
   "source": [
    "fake_mail = fake.email()\n",
    "print(fake_mail)"
   ]
  },
  {
   "cell_type": "markdown",
   "metadata": {},
   "source": [
    "#### Generare de nume de companie"
   ]
  },
  {
   "cell_type": "code",
   "execution_count": 11,
   "metadata": {},
   "outputs": [
    {
     "name": "stdout",
     "output_type": "stream",
     "text": [
      "Cochran-Bell and Sons\n"
     ]
    }
   ],
   "source": [
    "fake_company = fake.company() + \" \" + fake.company_suffix()\n",
    "print(fake_company)"
   ]
  },
  {
   "cell_type": "markdown",
   "metadata": {},
   "source": [
    "#### Generare de culori"
   ]
  },
  {
   "cell_type": "code",
   "execution_count": 12,
   "metadata": {},
   "outputs": [
    {
     "name": "stdout",
     "output_type": "stream",
     "text": [
      "DarkSalmon   |   rgb(99, 169, 198)   |   #72e82d   |   rgb(141,196,142)\n"
     ]
    }
   ],
   "source": [
    "color_name = fake.color_name()\n",
    "fake_color = fake.color(hue=(100, 200), color_format='rgb')\n",
    "fake_hex_color = fake.hex_color()\n",
    "fake_css_color = fake.rgb_css_color()\n",
    "print(color_name,\"  |  \", fake_color,\"  |  \", fake_hex_color,\"  |  \", fake_css_color)"
   ]
  },
  {
   "cell_type": "markdown",
   "metadata": {},
   "source": [
    "#### Generare de cursuri valutare"
   ]
  },
  {
   "cell_type": "code",
   "execution_count": 13,
   "metadata": {},
   "outputs": [
    {
     "name": "stdout",
     "output_type": "stream",
     "text": [
      "('BC', 'BlackCoin')   |   ('PHP', 'Philippine peso')   |   $\n"
     ]
    }
   ],
   "source": [
    "fake_crypto = fake.cryptocurrency()\n",
    "fake_currency = fake.currency()\n",
    "fake_symbol = fake.currency_symbol()\n",
    "print(fake_crypto,\"  |  \", fake_currency, \"  |  \", fake_symbol)"
   ]
  },
  {
   "cell_type": "markdown",
   "metadata": {},
   "source": [
    "#### Generare de nume de fisiere"
   ]
  },
  {
   "cell_type": "code",
   "execution_count": 14,
   "metadata": {},
   "outputs": [
    {
     "name": "stdout",
     "output_type": "stream",
     "text": [
      "prevent.mp3\n"
     ]
    }
   ],
   "source": [
    "fake_file = fake.file_name()\n",
    "print(fake_file)"
   ]
  },
  {
   "cell_type": "markdown",
   "metadata": {},
   "source": [
    "#### Generarea unui profil de utilizator"
   ]
  },
  {
   "cell_type": "code",
   "execution_count": 15,
   "metadata": {},
   "outputs": [
    {
     "name": "stdout",
     "output_type": "stream",
     "text": [
      "{'job': 'Medical laboratory scientific officer', 'company': 'Brown, Duran and Hubbard', 'ssn': '390-63-2640', 'residence': '697 Torres Centers\\nButlerborough, KY 02320', 'current_location': (Decimal('-63.589828'), Decimal('160.780795')), 'blood_group': 'AB-', 'website': ['http://www.bailey.com/', 'https://www.richardson.com/'], 'username': 'olivermichael', 'name': 'Erin Long', 'sex': 'F', 'address': 'Unit 8167 Box 0868\\nDPO AA 30976', 'mail': 'stevenbeard@gmail.com', 'birthdate': datetime.date(1941, 10, 5)}\n"
     ]
    }
   ],
   "source": [
    "fake_profile = fake.profile()\n",
    "print(fake_profile)"
   ]
  },
  {
   "cell_type": "markdown",
   "metadata": {},
   "source": [
    "#### Generare de device-uri si platforme"
   ]
  },
  {
   "cell_type": "code",
   "execution_count": 16,
   "metadata": {},
   "outputs": [
    {
     "name": "stdout",
     "output_type": "stream",
     "text": [
      "Android 8.0.0\n",
      "Mozilla/5.0 (X11; Linux i686) AppleWebKit/531.0 (KHTML, like Gecko) Chrome/48.0.860.0 Safari/531.0\n",
      "iPhone; CPU iPhone OS 10_3_3 like Mac OS X\n"
     ]
    }
   ],
   "source": [
    "fake_android = fake.android_platform_token()\n",
    "fake_chrome = fake.chrome()\n",
    "fake_ios = fake.ios_platform_token()\n",
    "\n",
    "print(fake_android + \"\\n\" + fake_chrome + \"\\n\" + fake_ios)"
   ]
  },
  {
   "cell_type": "markdown",
   "metadata": {},
   "source": [
    "    Pe langa capacitatea acestui frameworks de a genera date pseudo-reale, generarea de date poate fi parametrizata cu locatiile din care acestea sa provina, generand astfel informatii custom pentru diverse locatii/tari."
   ]
  },
  {
   "cell_type": "code",
   "execution_count": 17,
   "metadata": {},
   "outputs": [
    {
     "name": "stdout",
     "output_type": "stream",
     "text": [
      "Elvia Jos Canales\n",
      "Вениамин Тарасович Сидоров\n",
      "Ivonne Rocha\n",
      "Antim Nistor\n",
      "Luisa Gabriel Ozuna\n",
      "Alexandru Florea\n",
      "Olimpian Niță\n",
      "Iosefina Ababei\n",
      "Nicu Stănescu\n",
      "Mariana Diaconu\n",
      "佐々木 直樹\n",
      "Ing. Miguel Ángel Loya\n",
      "三宅 和也\n",
      "若松 幹\n",
      "Tinca Marin\n",
      "Антип Валерьянович Субботин\n",
      "Vasilica Popa\n",
      "鈴木 学\n",
      "中村 充\n",
      "Suzana Aanei\n"
     ]
    }
   ],
   "source": [
    "fake = Faker(['ro_RO', 'es_MX','ru_RU', 'ja_JP'])\n",
    "for _ in range(20):\n",
    "    print(fake.name())"
   ]
  },
  {
   "cell_type": "markdown",
   "metadata": {},
   "source": [
    "#### Crearea unui obiect faker pentru o anumita regiune"
   ]
  },
  {
   "cell_type": "code",
   "execution_count": 18,
   "metadata": {},
   "outputs": [],
   "source": [
    "from faker import Factory\n",
    "fake = Factory.create('fr_FR')"
   ]
  },
  {
   "cell_type": "code",
   "execution_count": 19,
   "metadata": {},
   "outputs": [
    {
     "data": {
      "text/plain": [
       "'28, rue Margaret Nicolas\\n41107 Maillot'"
      ]
     },
     "execution_count": 19,
     "metadata": {},
     "output_type": "execute_result"
    }
   ],
   "source": [
    "fake.address()"
   ]
  },
  {
   "cell_type": "code",
   "execution_count": 20,
   "metadata": {},
   "outputs": [
    {
     "data": {
      "text/plain": [
       "'Galletboeuf'"
      ]
     },
     "execution_count": 20,
     "metadata": {},
     "output_type": "execute_result"
    }
   ],
   "source": [
    "fake.city()"
   ]
  },
  {
   "cell_type": "code",
   "execution_count": 21,
   "metadata": {},
   "outputs": [
    {
     "data": {
      "text/plain": [
       "('26', 'Drôme')"
      ]
     },
     "execution_count": 21,
     "metadata": {},
     "output_type": "execute_result"
    }
   ],
   "source": [
    "fake.department()"
   ]
  },
  {
   "cell_type": "markdown",
   "metadata": {},
   "source": [
    "    Pe langa metodele oferite de aceasta librarie, ne ofera optinuea de a crea generatoare random, denumite \"Providers\". Cu aceastea, utilizatorul poate geenra date random dupa o logica custom, in interiorul unei clase similare cu cea de jos."
   ]
  },
  {
   "cell_type": "code",
   "execution_count": 22,
   "metadata": {},
   "outputs": [],
   "source": [
    "fake = Faker()\n",
    "from faker.providers import BaseProvider\n",
    "from random import choice\n",
    "\n",
    "class UniversityProvider(BaseProvider):\n",
    "    def course(self):\n",
    "        return choice([\"VVSS\", \"CN\", \"TRSI\", \"FP\", \"BI\", \"AI\"])\n",
    "    def lab_room(self):\n",
    "        return choice([513, 301, 304,339])\n",
    "    \n",
    "fake.add_provider(UniversityProvider)"
   ]
  },
  {
   "cell_type": "markdown",
   "metadata": {},
   "source": [
    "    Orice metoda specificata intr-o clasa custom care extinde BaseProvider poate fi folosita in mod normal ca metoda a obiectului fake, similar ca ccele folosite anterior, precum .name() sau .date()."
   ]
  },
  {
   "cell_type": "code",
   "execution_count": 23,
   "metadata": {},
   "outputs": [
    {
     "data": {
      "text/plain": [
       "301"
      ]
     },
     "execution_count": 23,
     "metadata": {},
     "output_type": "execute_result"
    }
   ],
   "source": [
    "fake.lab_room()"
   ]
  },
  {
   "cell_type": "code",
   "execution_count": 24,
   "metadata": {},
   "outputs": [
    {
     "data": {
      "text/plain": [
       "'AI'"
      ]
     },
     "execution_count": 24,
     "metadata": {},
     "output_type": "execute_result"
    }
   ],
   "source": [
    "fake.course()"
   ]
  },
  {
   "cell_type": "markdown",
   "metadata": {},
   "source": [
    "    Pe langa suita de metode prezentata pana acum, Faker este capabil sa genereze date utile in procesul de creare de software si anume date specifice limbajului Python dar si alte date tehnice precum informatii despre IP-uri."
   ]
  },
  {
   "cell_type": "code",
   "execution_count": 25,
   "metadata": {},
   "outputs": [
    {
     "data": {
      "text/plain": [
       "{'economic': 'nphaJxdhOZWVhsIwKZay',\n",
       " 'anything': 'bryan22@gmail.com',\n",
       " 'red': 1000,\n",
       " 'Mrs': 'http://www.clark.com/search/',\n",
       " 'government': 'wYWGzJiIPLnsgYPJBAXO',\n",
       " 'try': 306908977.0,\n",
       " 'idea': datetime.datetime(2004, 3, 25, 13, 1, 44),\n",
       " 'deep': 'lbest@wade.com',\n",
       " 'arm': 1367,\n",
       " 'indicate': 8184,\n",
       " 'several': 228,\n",
       " 'loss': 'http://davis.com/privacy.htm'}"
      ]
     },
     "execution_count": 25,
     "metadata": {},
     "output_type": "execute_result"
    }
   ],
   "source": [
    "fake_dict = fake.pydict()\n",
    "fake_dict"
   ]
  },
  {
   "cell_type": "code",
   "execution_count": 26,
   "metadata": {},
   "outputs": [
    {
     "data": {
      "text/plain": [
       "[9822664924.0,\n",
       " 'http://jackson-morales.com/search.php',\n",
       " 'XRQXeJpThrPwUZOeCpGN',\n",
       " datetime.datetime(1976, 7, 20, 7, 47, 22),\n",
       " 3189,\n",
       " 'FlkRsGLRMMKiOdedlwbq']"
      ]
     },
     "execution_count": 26,
     "metadata": {},
     "output_type": "execute_result"
    }
   ],
   "source": [
    "fake_list = fake.pylist()\n",
    "fake_list"
   ]
  },
  {
   "cell_type": "code",
   "execution_count": 27,
   "metadata": {},
   "outputs": [],
   "source": [
    "from faker.providers import internet"
   ]
  },
  {
   "cell_type": "code",
   "execution_count": 28,
   "metadata": {},
   "outputs": [
    {
     "name": "stdout",
     "output_type": "stream",
     "text": [
      "192.168.108.121\n"
     ]
    }
   ],
   "source": [
    "fake = Faker()\n",
    "fake.add_provider(internet)\n",
    "\n",
    "print(fake.ipv4_private())"
   ]
  },
  {
   "cell_type": "markdown",
   "metadata": {},
   "source": [
    "    Sumarizand, Faker este o librarie utila pentru generarea de date random pseudo-reale, utile in testarea aplicatiilor."
   ]
  },
  {
   "cell_type": "markdown",
   "metadata": {},
   "source": [
    "## 6. Fixtures"
   ]
  },
  {
   "cell_type": "markdown",
   "metadata": {},
   "source": [
    "    Fixturile sunt functii care initializeaza alte functii de test. Initializarea se poate referi la setarea unei baze de date, a unui serviciu, sau a unor anumite proprietati (ex: logarea fortata a unui utilizator). Utilizarea fixturilor, imbunatateste cu mult calitatea testelor, fara de stilul clasic xUnit de testare (setup/teardown). In PyTest fixturile sunt functii simple, iar acestea sunt semnalate folosind decoratorul @pytest.fixture."
   ]
  },
  {
   "cell_type": "code",
   "execution_count": 80,
   "metadata": {},
   "outputs": [],
   "source": [
    "class User:\n",
    "    \"\"\"\n",
    "    Class for representing a user in our application\n",
    "    \"\"\"\n",
    "    def __init__(self, username: str, email: str, password: str):\n",
    "        self.__username = username\n",
    "        self.__email = email\n",
    "        self.__password = password\n",
    "    \n",
    "    ### @property -> getter\n",
    "    @property\n",
    "    def username(self) -> str:\n",
    "        return self.__username\n",
    "    \n",
    "    @property\n",
    "    def email(self) -> str:\n",
    "        return self.__email\n",
    "    \n",
    "    @property\n",
    "    def password(self) -> str:\n",
    "        return self.__password\n",
    "    \n",
    "    ### @attribute -> setter\n",
    "    @username.setter\n",
    "    def username(self, val: str):\n",
    "        self.__username = val\n",
    "    \n",
    "    @password.setter\n",
    "    def password(self, val: str):\n",
    "        self.__password = val\n",
    "    \n",
    "    @email.setter\n",
    "    def email(self, val: str):\n",
    "        self.__email = val\n",
    "    \n",
    "    def __str__(self):\n",
    "        return f\"Username: {self.__username} - Password: {self.__password} - Email: {self.email}\\n\"\n"
   ]
  },
  {
   "cell_type": "code",
   "execution_count": 90,
   "metadata": {},
   "outputs": [],
   "source": [
    "import pytest\n",
    "import ipytest # in order to use pytest in jupyter notebook\n",
    "\n",
    "@pytest.fixture\n",
    "def user():\n",
    "    \"\"\"\n",
    "    Create user with random username, password, email, using fake\n",
    "    \"\"\"\n",
    "    return User(username=fake.name(), password=fake.password(), \n",
    "               email=fake.email())\n",
    "\n",
    "\n",
    "def test_user(user):\n",
    "    print(f\"\\nFake user is: {user}\")"
   ]
  },
  {
   "cell_type": "code",
   "execution_count": 91,
   "metadata": {},
   "outputs": [
    {
     "name": "stdout",
     "output_type": "stream",
     "text": [
      "\u001b[1m============================= test session starts ==============================\u001b[0m\n",
      "platform linux -- Python 3.7.6, pytest-5.4.1, py-1.8.1, pluggy-0.13.1\n",
      "rootdir: /home/geo/Programming/University/Semester6/VVSS/vvss-project/dronem-app\n",
      "collected 1 item                                                               \u001b[0m\n",
      "\n",
      "test_user_fixtures.py Fake user is: Username: James Reynolds - Password: PYI74iNyV% - Email: wrightkaren@smith-mendez.biz\n",
      "\n",
      "\u001b[32m.\u001b[0m\n",
      "\n",
      "\u001b[33m=============================== warnings summary ===============================\u001b[0m\n",
      "/home/geo/anaconda3/envs/AI/lib/python3.7/site-packages/ipytest/_unittest_support.py:18\n",
      "  /home/geo/anaconda3/envs/AI/lib/python3.7/site-packages/ipytest/_unittest_support.py:18: FutureWarning: pandas.util.testing is deprecated. Use the functions in the public API at pandas.testing instead.\n",
      "    import pandas.util.testing as _pd_testing\n",
      "\n",
      "-- Docs: https://docs.pytest.org/en/latest/warnings.html\n",
      "\u001b[33m========================= \u001b[32m1 passed\u001b[0m, \u001b[33m\u001b[1m1 warning\u001b[0m\u001b[33m in 0.44s\u001b[0m\u001b[33m =========================\u001b[0m\n"
     ]
    }
   ],
   "source": [
    "!pytest test_user_fixtures.py -s"
   ]
  },
  {
   "cell_type": "code",
   "execution_count": 87,
   "metadata": {},
   "outputs": [],
   "source": [
    "@pytest.fixture\n",
    "def user_invalid_name():\n",
    "    \"\"\"\n",
    "    Create user with random password, email, and invalid name using fake\n",
    "    \"\"\"\n",
    "    return User(username=\".p123axzc~wqq \", password=fake.password(), \n",
    "               email=fake.email())\n",
    "\n",
    "\n",
    "def is_username_valid(username: str):\n",
    "    for char in username:\n",
    "        if char in \"?~ -\":\n",
    "            return False\n",
    "    \n",
    "    return True\n",
    "\n",
    "def test_user_invalid_name(user_invalid_name):\n",
    "    username = user_invalid_name.username\n",
    "\n",
    "    assert is_username_valid(username) is False "
   ]
  },
  {
   "cell_type": "code",
   "execution_count": 88,
   "metadata": {},
   "outputs": [
    {
     "name": "stdout",
     "output_type": "stream",
     "text": [
      "\u001b[1m============================= test session starts ==============================\u001b[0m\n",
      "platform linux -- Python 3.7.6, pytest-5.4.1, py-1.8.1, pluggy-0.13.1\n",
      "rootdir: /home/geo/Programming/University/Semester6/VVSS/vvss-project/dronem-app\n",
      "collected 1 item                                                               \u001b[0m\n",
      "\n",
      "test_user_invalid_name_fixtures.py \u001b[32m.\u001b[0m\n",
      "\n",
      "\u001b[33m=============================== warnings summary ===============================\u001b[0m\n",
      "/home/geo/anaconda3/envs/AI/lib/python3.7/site-packages/ipytest/_unittest_support.py:18\n",
      "  /home/geo/anaconda3/envs/AI/lib/python3.7/site-packages/ipytest/_unittest_support.py:18: FutureWarning: pandas.util.testing is deprecated. Use the functions in the public API at pandas.testing instead.\n",
      "    import pandas.util.testing as _pd_testing\n",
      "\n",
      "-- Docs: https://docs.pytest.org/en/latest/warnings.html\n",
      "\u001b[33m========================= \u001b[32m1 passed\u001b[0m, \u001b[33m\u001b[1m1 warning\u001b[0m\u001b[33m in 0.46s\u001b[0m\u001b[33m =========================\u001b[0m\n"
     ]
    }
   ],
   "source": [
    "!pytest test_user_invalid_name_fixtures.py -s"
   ]
  },
  {
   "cell_type": "markdown",
   "metadata": {},
   "source": [
    "## 7. Monkey Patch"
   ]
  },
  {
   "cell_type": "code",
   "execution_count": null,
   "metadata": {},
   "outputs": [],
   "source": []
  }
 ],
 "metadata": {
  "kernelspec": {
   "display_name": "Python 3",
   "language": "python",
   "name": "python3"
  },
  "language_info": {
   "codemirror_mode": {
    "name": "ipython",
    "version": 3
   },
   "file_extension": ".py",
   "mimetype": "text/x-python",
   "name": "python",
   "nbconvert_exporter": "python",
   "pygments_lexer": "ipython3",
   "version": "3.7.6"
  }
 },
 "nbformat": 4,
 "nbformat_minor": 2
}
